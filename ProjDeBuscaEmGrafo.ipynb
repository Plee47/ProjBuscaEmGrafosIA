{
  "nbformat": 4,
  "nbformat_minor": 0,
  "metadata": {
    "colab": {
      "provenance": [],
      "authorship_tag": "ABX9TyO7/gfeHfXaS0E/+FndyCF5",
      "include_colab_link": true
    },
    "kernelspec": {
      "name": "python3",
      "display_name": "Python 3"
    },
    "language_info": {
      "name": "python"
    }
  },
  "cells": [
    {
      "cell_type": "markdown",
      "metadata": {
        "id": "view-in-github",
        "colab_type": "text"
      },
      "source": [
        "<a href=\"https://colab.research.google.com/github/Plee47/ProjBuscaEmProfundidade-IA-/blob/main/ProjDeBuscaEmGrafo.ipynb\" target=\"_parent\"><img src=\"https://colab.research.google.com/assets/colab-badge.svg\" alt=\"Open In Colab\"/></a>"
      ]
    },
    {
      "cell_type": "code",
      "execution_count": null,
      "metadata": {
        "id": "KGOXhLHvRUvE"
      },
      "outputs": [],
      "source": [
        "\n",
        "mD =  {\n",
        "          0: 'A',\n",
        "          1: 'C',\n",
        "          2: 'B',\n",
        "          3: 'D',\n",
        "          4: 'L',\n",
        "          5: 'J',\n",
        "          6: 'I',\n",
        "          7: 'E',\n",
        "          8: 'G',\n",
        "          9: 'H',\n",
        "         10: 'F'\n",
        "}\n",
        "\n",
        "grafo = [\n",
        "            [2,1], \n",
        "            [5,4,0,],\n",
        "            [3,0],\n",
        "            [2,7,5],\n",
        "            [1,6], \n",
        "            [8,6,3,1], \n",
        "            [9,5,4],\n",
        "            [10,3], \n",
        "            [10,9,5], \n",
        "            [8, 10, 6], \n",
        "            [8, 9, 7] \n",
        "]\n",
        "\n",
        "nohsVisitados = [0, 0, 0, 0, 0, 0, 0, 0, 0, 0, 0]\n",
        "\n",
        "def buscaEmProfundidade(nohPartida, nohChegar):\n",
        "  pilha = []\n",
        "  pilha.append(nohPartida)\n",
        "\n",
        "  while len(pilha) > 0:\n",
        "    nohDaVez = pilha.pop()\n",
        "    if nohsVisitados[nohDaVez] == 0:\n",
        "      nohsVisitados[nohDaVez] = 1\n",
        "      print(mD[nohDaVez])\n",
        "      \n",
        "      if nohDaVez == nohChegar:\n",
        "        print(\"Chegou ao destino\")\n",
        "        break\n",
        "      else:\n",
        "        for noh in grafo[nohDaVez]:\n",
        "          pilha.append(noh)\n",
        "\n",
        "\n",
        "fila = []\n",
        "\n",
        "def buscaEmLargura(nohPartida, nohDeChegada):\n",
        "  fila.append(nohPartida)\n",
        "\n",
        "  while len(fila) > 0:\n",
        "    noh = fila.pop(0)\n",
        "    nohsVisitados[noh] = 1\n",
        "    print(mD[noh])\n",
        "\n",
        "    if noh == nohDeChegada:\n",
        "      print(\"Chegou!\")\n",
        "      break\n",
        "    else:\n",
        "\n",
        "      for x in grafo[noh]:\n",
        "       if nohsVisitados[x] == 0:\n",
        "          nohsVisitados[x] = 1\n",
        "          fila.append(x)\n",
        "\n",
        "buscaEmLargura(0,5)\n",
        "\n",
        "buscaEmProfundidade(0,5)"
      ]
    }
  ]
}